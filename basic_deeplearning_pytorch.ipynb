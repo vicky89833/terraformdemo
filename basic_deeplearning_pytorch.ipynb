{
  "nbformat": 4,
  "nbformat_minor": 0,
  "metadata": {
    "colab": {
      "provenance": [],
      "toc_visible": true
    },
    "kernelspec": {
      "name": "python3",
      "display_name": "Python 3"
    },
    "language_info": {
      "name": "python"
    }
  },
  "cells": [
    {
      "cell_type": "markdown",
      "source": [
        "Pytorch tutorial"
      ],
      "metadata": {
        "id": "i_mA3q4_U4HX"
      }
    },
    {
      "cell_type": "code",
      "execution_count": 3,
      "metadata": {
        "id": "Y_WNqZ3HU2No"
      },
      "outputs": [],
      "source": [
        "import torch"
      ]
    },
    {
      "cell_type": "code",
      "source": [
        "#number\n",
        "t1=torch.tensor(4.)\n",
        "t1"
      ],
      "metadata": {
        "colab": {
          "base_uri": "https://localhost:8080/"
        },
        "id": "22MaERD6Vbn-",
        "outputId": "9be1ad5a-5277-4a21-b47b-99d315faa43f"
      },
      "execution_count": 4,
      "outputs": [
        {
          "output_type": "execute_result",
          "data": {
            "text/plain": [
              "tensor(4.)"
            ]
          },
          "metadata": {},
          "execution_count": 4
        }
      ]
    },
    {
      "cell_type": "code",
      "source": [
        "t1.dtype"
      ],
      "metadata": {
        "colab": {
          "base_uri": "https://localhost:8080/"
        },
        "id": "jA2itaB9Vb7G",
        "outputId": "c4a2d8fc-b000-43d1-b71e-86b84ac69119"
      },
      "execution_count": 5,
      "outputs": [
        {
          "output_type": "execute_result",
          "data": {
            "text/plain": [
              "torch.float32"
            ]
          },
          "metadata": {},
          "execution_count": 5
        }
      ]
    },
    {
      "cell_type": "code",
      "source": [
        "#vector\n",
        "t2=torch.tensor([1.,2,3,4])\n",
        "t2"
      ],
      "metadata": {
        "colab": {
          "base_uri": "https://localhost:8080/"
        },
        "id": "zKV9oHanVwvZ",
        "outputId": "3e081eeb-6115-406a-ad93-d888155def4b"
      },
      "execution_count": 6,
      "outputs": [
        {
          "output_type": "execute_result",
          "data": {
            "text/plain": [
              "tensor([1., 2., 3., 4.])"
            ]
          },
          "metadata": {},
          "execution_count": 6
        }
      ]
    },
    {
      "cell_type": "code",
      "source": [
        "t2.dtype"
      ],
      "metadata": {
        "colab": {
          "base_uri": "https://localhost:8080/"
        },
        "id": "piKuOss7WCuJ",
        "outputId": "42140bff-9ce7-4853-f5e7-846297a0073c"
      },
      "execution_count": 7,
      "outputs": [
        {
          "output_type": "execute_result",
          "data": {
            "text/plain": [
              "torch.float32"
            ]
          },
          "metadata": {},
          "execution_count": 7
        }
      ]
    },
    {
      "cell_type": "code",
      "source": [
        "#matrix\n",
        "t3=torch.tensor([[5,6],\n",
        "                 [7,8],\n",
        "                 [9,10]])\n",
        "t3"
      ],
      "metadata": {
        "colab": {
          "base_uri": "https://localhost:8080/"
        },
        "id": "IulX04gxWGF9",
        "outputId": "a6b30c23-8956-4b47-cb63-2a28b1626e22"
      },
      "execution_count": 8,
      "outputs": [
        {
          "output_type": "execute_result",
          "data": {
            "text/plain": [
              "tensor([[ 5,  6],\n",
              "        [ 7,  8],\n",
              "        [ 9, 10]])"
            ]
          },
          "metadata": {},
          "execution_count": 8
        }
      ]
    },
    {
      "cell_type": "code",
      "source": [
        "# 3-dimentional array\n",
        "t4=torch.tensor([\n",
        "    [\n",
        "        [1,2,3],[4,5,6],\n",
        "        [7,8,9]\n",
        "    ]\n",
        "])\n",
        "t4"
      ],
      "metadata": {
        "colab": {
          "base_uri": "https://localhost:8080/"
        },
        "id": "soPBALzYWu8f",
        "outputId": "e015cbc8-bbf4-40ba-87b7-141a1983840d"
      },
      "execution_count": 9,
      "outputs": [
        {
          "output_type": "execute_result",
          "data": {
            "text/plain": [
              "tensor([[[1, 2, 3],\n",
              "         [4, 5, 6],\n",
              "         [7, 8, 9]]])"
            ]
          },
          "metadata": {},
          "execution_count": 9
        }
      ]
    },
    {
      "cell_type": "markdown",
      "source": [
        "tensors can have any number of dimensions and different lengths along each dimension.We can inspect the length along each dimension using the .shape property of a tensor."
      ],
      "metadata": {
        "id": "f2T1Y-bOYB5q"
      }
    },
    {
      "cell_type": "code",
      "source": [
        "t1.shape"
      ],
      "metadata": {
        "colab": {
          "base_uri": "https://localhost:8080/"
        },
        "id": "hMTVAVx6X2gZ",
        "outputId": "27e48a08-6f17-4323-a769-b663c8b351f6"
      },
      "execution_count": 10,
      "outputs": [
        {
          "output_type": "execute_result",
          "data": {
            "text/plain": [
              "torch.Size([])"
            ]
          },
          "metadata": {},
          "execution_count": 10
        }
      ]
    },
    {
      "cell_type": "code",
      "source": [
        "t2.shape\n"
      ],
      "metadata": {
        "colab": {
          "base_uri": "https://localhost:8080/"
        },
        "id": "Naf3NkWcYqWe",
        "outputId": "f51eb98a-e3f0-43ba-be59-7f3f0bcd6a8f"
      },
      "execution_count": 11,
      "outputs": [
        {
          "output_type": "execute_result",
          "data": {
            "text/plain": [
              "torch.Size([4])"
            ]
          },
          "metadata": {},
          "execution_count": 11
        }
      ]
    },
    {
      "cell_type": "code",
      "source": [
        "t3.shape"
      ],
      "metadata": {
        "colab": {
          "base_uri": "https://localhost:8080/"
        },
        "id": "Hj9KOHFrYw9P",
        "outputId": "932f2765-70ad-493a-dc2a-2ce76bc7ef37"
      },
      "execution_count": 12,
      "outputs": [
        {
          "output_type": "execute_result",
          "data": {
            "text/plain": [
              "torch.Size([3, 2])"
            ]
          },
          "metadata": {},
          "execution_count": 12
        }
      ]
    },
    {
      "cell_type": "code",
      "source": [
        "t4.shape"
      ],
      "metadata": {
        "colab": {
          "base_uri": "https://localhost:8080/"
        },
        "id": "t6PFfNlkYzSx",
        "outputId": "684a2706-b1a0-436b-cfcc-a9b5488e3e74"
      },
      "execution_count": 13,
      "outputs": [
        {
          "output_type": "execute_result",
          "data": {
            "text/plain": [
              "torch.Size([1, 3, 3])"
            ]
          },
          "metadata": {},
          "execution_count": 13
        }
      ]
    },
    {
      "cell_type": "markdown",
      "source": [
        "note that is not possible to create improper shape"
      ],
      "metadata": {
        "id": "Np4EjXB3Y-dB"
      }
    },
    {
      "cell_type": "code",
      "source": [
        "t5=torch.tensor([[1,2,3],[4]])\n",
        "t5"
      ],
      "metadata": {
        "colab": {
          "base_uri": "https://localhost:8080/",
          "height": 193
        },
        "id": "cZdU2Fd7Y2pA",
        "outputId": "03dce618-047b-485f-dbbd-0bc392d0f4b0"
      },
      "execution_count": 15,
      "outputs": [
        {
          "output_type": "error",
          "ename": "ValueError",
          "evalue": "expected sequence of length 3 at dim 1 (got 1)",
          "traceback": [
            "\u001b[0;31m---------------------------------------------------------------------------\u001b[0m",
            "\u001b[0;31mValueError\u001b[0m                                Traceback (most recent call last)",
            "\u001b[0;32m<ipython-input-15-14e428483956>\u001b[0m in \u001b[0;36m<cell line: 1>\u001b[0;34m()\u001b[0m\n\u001b[0;32m----> 1\u001b[0;31m \u001b[0mt5\u001b[0m\u001b[0;34m=\u001b[0m\u001b[0mtorch\u001b[0m\u001b[0;34m.\u001b[0m\u001b[0mtensor\u001b[0m\u001b[0;34m(\u001b[0m\u001b[0;34m[\u001b[0m\u001b[0;34m[\u001b[0m\u001b[0;36m1\u001b[0m\u001b[0;34m,\u001b[0m\u001b[0;36m2\u001b[0m\u001b[0;34m,\u001b[0m\u001b[0;36m3\u001b[0m\u001b[0;34m]\u001b[0m\u001b[0;34m,\u001b[0m\u001b[0;34m[\u001b[0m\u001b[0;36m4\u001b[0m\u001b[0;34m]\u001b[0m\u001b[0;34m]\u001b[0m\u001b[0;34m)\u001b[0m\u001b[0;34m\u001b[0m\u001b[0;34m\u001b[0m\u001b[0m\n\u001b[0m\u001b[1;32m      2\u001b[0m \u001b[0mt5\u001b[0m\u001b[0;34m\u001b[0m\u001b[0;34m\u001b[0m\u001b[0m\n",
            "\u001b[0;31mValueError\u001b[0m: expected sequence of length 3 at dim 1 (got 1)"
          ]
        }
      ]
    },
    {
      "cell_type": "markdown",
      "source": [
        "Tensor operation ad gradients"
      ],
      "metadata": {
        "id": "rlpEocENZl4e"
      }
    },
    {
      "cell_type": "code",
      "source": [
        "#Create tensor\n",
        "x=torch.tensor(3.)\n",
        "\n",
        "w=torch.tensor(4.,requires_grad=True)\n",
        "b=torch.tensor(5.,requires_grad=True)\n",
        "x,w,b"
      ],
      "metadata": {
        "colab": {
          "base_uri": "https://localhost:8080/"
        },
        "id": "UQ3MGKlqZiqI",
        "outputId": "f3a96778-748e-4328-e182-02ed9a41ef5d"
      },
      "execution_count": 18,
      "outputs": [
        {
          "output_type": "execute_result",
          "data": {
            "text/plain": [
              "(tensor(3.), tensor(4., requires_grad=True), tensor(5., requires_grad=True))"
            ]
          },
          "metadata": {},
          "execution_count": 18
        }
      ]
    },
    {
      "cell_type": "markdown",
      "source": [
        "We've created three tensor x,w and b,all numbers wand b have an additional parameter require_grad set to True.We'll see what it does in just a moment.\n",
        "Let's create a new tensor y by combininig these tensors."
      ],
      "metadata": {
        "id": "hty03Dr9aiPn"
      }
    },
    {
      "cell_type": "code",
      "source": [
        "#Arithmetic operations\n",
        "y = w*x + b\n",
        "y"
      ],
      "metadata": {
        "colab": {
          "base_uri": "https://localhost:8080/"
        },
        "id": "-n9qwTEjad5Q",
        "outputId": "42a745bb-c124-442f-d72f-a375a23618ca"
      },
      "execution_count": 19,
      "outputs": [
        {
          "output_type": "execute_result",
          "data": {
            "text/plain": [
              "tensor(17., grad_fn=<AddBackward0>)"
            ]
          },
          "metadata": {},
          "execution_count": 19
        }
      ]
    },
    {
      "cell_type": "code",
      "source": [
        "#derivative of y\n",
        "y.backward()"
      ],
      "metadata": {
        "id": "9OrVNIDGbZBq"
      },
      "execution_count": 20,
      "outputs": []
    },
    {
      "cell_type": "code",
      "source": [
        "#display gradients\n",
        "print('dy/dx:',x.grad)\n",
        "print('dy/dw:',w.grad)\n",
        "print('dy/db:',b.grad)"
      ],
      "metadata": {
        "colab": {
          "base_uri": "https://localhost:8080/"
        },
        "id": "cyQoVnk9cV28",
        "outputId": "5c21f237-5b17-4089-c237-c12f8f8646fe"
      },
      "execution_count": 21,
      "outputs": [
        {
          "output_type": "stream",
          "name": "stdout",
          "text": [
            "dy/dx: None\n",
            "dy/dw: tensor(3.)\n",
            "dy/db: tensor(1.)\n"
          ]
        }
      ]
    },
    {
      "cell_type": "markdown",
      "source": [
        "Tensor Functions"
      ],
      "metadata": {
        "id": "8FHEpkn3dEFM"
      }
    },
    {
      "cell_type": "code",
      "source": [
        "#create a tensor with a died value for every element\n",
        "t6=torch.full((3,2),42)\n",
        "t6"
      ],
      "metadata": {
        "colab": {
          "base_uri": "https://localhost:8080/"
        },
        "id": "M0E6l6vhdBxv",
        "outputId": "6e56723d-8588-4220-f7e7-e8dd51388eed"
      },
      "execution_count": 22,
      "outputs": [
        {
          "output_type": "execute_result",
          "data": {
            "text/plain": [
              "tensor([[42, 42],\n",
              "        [42, 42],\n",
              "        [42, 42]])"
            ]
          },
          "metadata": {},
          "execution_count": 22
        }
      ]
    },
    {
      "cell_type": "code",
      "source": [
        "# concatenate two tensors with compatible shapes\n",
        "t7=torch.cat((t3,t6))\n",
        "t7"
      ],
      "metadata": {
        "colab": {
          "base_uri": "https://localhost:8080/"
        },
        "id": "C9Opjbz7dv9_",
        "outputId": "1db9d0ba-6af0-4ed5-ec3b-825444dc1813"
      },
      "execution_count": 23,
      "outputs": [
        {
          "output_type": "execute_result",
          "data": {
            "text/plain": [
              "tensor([[ 5,  6],\n",
              "        [ 7,  8],\n",
              "        [ 9, 10],\n",
              "        [42, 42],\n",
              "        [42, 42],\n",
              "        [42, 42]])"
            ]
          },
          "metadata": {},
          "execution_count": 23
        }
      ]
    },
    {
      "cell_type": "code",
      "source": [
        "#compute the sin of each element\n",
        "t8=torch.sin(t7)\n",
        "t8"
      ],
      "metadata": {
        "colab": {
          "base_uri": "https://localhost:8080/"
        },
        "id": "g_sUFbj0eDql",
        "outputId": "3069a83a-66d2-4a96-f041-aaa7dbce8a8b"
      },
      "execution_count": 24,
      "outputs": [
        {
          "output_type": "execute_result",
          "data": {
            "text/plain": [
              "tensor([[-0.9589, -0.2794],\n",
              "        [ 0.6570,  0.9894],\n",
              "        [ 0.4121, -0.5440],\n",
              "        [-0.9165, -0.9165],\n",
              "        [-0.9165, -0.9165],\n",
              "        [-0.9165, -0.9165]])"
            ]
          },
          "metadata": {},
          "execution_count": 24
        }
      ]
    },
    {
      "cell_type": "markdown",
      "source": [
        "Interoperatibilty with numpy"
      ],
      "metadata": {
        "id": "h8IjTESKfxmj"
      }
    },
    {
      "cell_type": "code",
      "source": [
        "import numpy as np\n",
        "\n",
        "x=np.array([[1,2],[3,4.]])\n",
        "x"
      ],
      "metadata": {
        "colab": {
          "base_uri": "https://localhost:8080/"
        },
        "id": "zxc3ypENeQBS",
        "outputId": "0e1607d3-187e-4a33-c8f1-6ca0e0867fe7"
      },
      "execution_count": 25,
      "outputs": [
        {
          "output_type": "execute_result",
          "data": {
            "text/plain": [
              "array([[1., 2.],\n",
              "       [3., 4.]])"
            ]
          },
          "metadata": {},
          "execution_count": 25
        }
      ]
    },
    {
      "cell_type": "code",
      "source": [
        "#convert numpy array to a torch tensor\n",
        "\n",
        "y=torch.from_numpy(x)\n",
        "y"
      ],
      "metadata": {
        "colab": {
          "base_uri": "https://localhost:8080/"
        },
        "id": "egXNjF5AgGj4",
        "outputId": "d01e17af-4159-4bea-9943-4df18e085f64"
      },
      "execution_count": 26,
      "outputs": [
        {
          "output_type": "execute_result",
          "data": {
            "text/plain": [
              "tensor([[1., 2.],\n",
              "        [3., 4.]], dtype=torch.float64)"
            ]
          },
          "metadata": {},
          "execution_count": 26
        }
      ]
    },
    {
      "cell_type": "code",
      "source": [
        "#verify the datatype\n",
        "x.dtype,y.dtype"
      ],
      "metadata": {
        "colab": {
          "base_uri": "https://localhost:8080/"
        },
        "id": "xrV1tza7gUuM",
        "outputId": "fff1cc4d-797e-41d1-db85-c66d246e2ccc"
      },
      "execution_count": 27,
      "outputs": [
        {
          "output_type": "execute_result",
          "data": {
            "text/plain": [
              "(dtype('float64'), torch.float64)"
            ]
          },
          "metadata": {},
          "execution_count": 27
        }
      ]
    },
    {
      "cell_type": "code",
      "source": [
        "#convert a torch tensor to a numpy array\n",
        "\n",
        "z=y.numpy()\n",
        "z"
      ],
      "metadata": {
        "colab": {
          "base_uri": "https://localhost:8080/"
        },
        "id": "5QHdfri1gkXJ",
        "outputId": "cca45dd7-1432-43d4-d2f3-cd60e35b2ca8"
      },
      "execution_count": 28,
      "outputs": [
        {
          "output_type": "execute_result",
          "data": {
            "text/plain": [
              "array([[1., 2.],\n",
              "       [3., 4.]])"
            ]
          },
          "metadata": {},
          "execution_count": 28
        }
      ]
    },
    {
      "cell_type": "markdown",
      "source": [
        "interoperability between pytorch and numpy is essential beccause most datasets you;ll work with will liley be prepocessed as Numpy arrays.\n",
        "\n",
        "You mi wonder why we need a library like Pytorch at all since Numpy already provides data structures and utilities for working with multi - dimensional numeric data. Trere are two main reasons:\n",
        "\n",
        "1.Autograd:The ability to automatically compute gradients for tensor perations is essential for training deep learning models.\n",
        "2.GPU support: While woking with massive datasets and large models,PyTorch tensor operations can be performed efficiently using a Graphics Processing  Unit(GPU).Computations that might typically take hours can be completes within minutes using GPUs.\n",
        "\n",
        "We'll leverage both these features of PyTorch extensively in this tutorial series;"
      ],
      "metadata": {
        "id": "u8RdM6xNgzs2"
      }
    },
    {
      "cell_type": "code",
      "source": [
        "import numpy as np\n",
        "import torch"
      ],
      "metadata": {
        "id": "ALwaCuLSgwog"
      },
      "execution_count": 29,
      "outputs": []
    },
    {
      "cell_type": "markdown",
      "source": [
        "Training Data\n",
        "\n",
        "\n"
      ],
      "metadata": {
        "id": "4uyF8pBdPOaS"
      }
    },
    {
      "cell_type": "code",
      "source": [
        "# Input (temp,rainfall,humidity)\n",
        "inputs=np.array([[73,67,43],\n",
        "                [91,88,64],\n",
        "               [87,134,58],\n",
        "               [102,43,37],\n",
        "               [69,96,70]],dtype='float32'\n",
        "               )"
      ],
      "metadata": {
        "id": "30gyKhITPMtQ"
      },
      "execution_count": 30,
      "outputs": []
    },
    {
      "cell_type": "code",
      "source": [
        "# Target (apples,oranges)\n",
        "targets=np.array([[56,70],\n",
        "                  [81,101],\n",
        "                  [119,133],\n",
        "                  [22,37],\n",
        "                  [103,119]],dtype='float32')"
      ],
      "metadata": {
        "id": "ysITyodxQO4v"
      },
      "execution_count": 31,
      "outputs": []
    },
    {
      "cell_type": "code",
      "source": [
        "#convert arrray to tenso\n",
        "inputs=torch.from_numpy(inputs)\n",
        "targets=torch.from_numpy(targets)\n",
        "inputs,targets"
      ],
      "metadata": {
        "colab": {
          "base_uri": "https://localhost:8080/"
        },
        "id": "O0m86V9KQ74g",
        "outputId": "9fd2f4a7-8675-4110-8c1c-718491b686f7"
      },
      "execution_count": 32,
      "outputs": [
        {
          "output_type": "execute_result",
          "data": {
            "text/plain": [
              "(tensor([[ 73.,  67.,  43.],\n",
              "         [ 91.,  88.,  64.],\n",
              "         [ 87., 134.,  58.],\n",
              "         [102.,  43.,  37.],\n",
              "         [ 69.,  96.,  70.]]),\n",
              " tensor([[ 56.,  70.],\n",
              "         [ 81., 101.],\n",
              "         [119., 133.],\n",
              "         [ 22.,  37.],\n",
              "         [103., 119.]]))"
            ]
          },
          "metadata": {},
          "execution_count": 32
        }
      ]
    },
    {
      "cell_type": "markdown",
      "source": [
        "Linear regration model from scratch"
      ],
      "metadata": {
        "id": "cVEMvWkIRzO_"
      }
    },
    {
      "cell_type": "code",
      "source": [
        "# weights and biases\n",
        "#randn give random data from  normal gragh\n",
        "# yield_apple=w11*temp+w12*rainfall+w13*humidity+b1\n",
        "#yield_orange=w21*temp +w22*rainfall+w23* humidity +b2\n",
        "\n",
        "w=torch.randn(2,3,requires_grad=True)\n",
        "b=torch.randn(2,requires_grad=True)"
      ],
      "metadata": {
        "id": "MfvZ1C7gRj3X"
      },
      "execution_count": 33,
      "outputs": []
    },
    {
      "cell_type": "code",
      "source": [
        "inputs"
      ],
      "metadata": {
        "colab": {
          "base_uri": "https://localhost:8080/"
        },
        "id": "oGqvzPGeU7RX",
        "outputId": "fce7b0c0-bba3-4ab3-a27c-6512abbc060d"
      },
      "execution_count": 34,
      "outputs": [
        {
          "output_type": "execute_result",
          "data": {
            "text/plain": [
              "tensor([[ 73.,  67.,  43.],\n",
              "        [ 91.,  88.,  64.],\n",
              "        [ 87., 134.,  58.],\n",
              "        [102.,  43.,  37.],\n",
              "        [ 69.,  96.,  70.]])"
            ]
          },
          "metadata": {},
          "execution_count": 34
        }
      ]
    },
    {
      "cell_type": "markdown",
      "source": [
        "@ vector matrix multiplicaton\n",
        ".t() for transpose of tensor\n"
      ],
      "metadata": {
        "id": "kBiQ5a4uVq05"
      }
    },
    {
      "cell_type": "code",
      "source": [
        "inputs@ w.t() +b"
      ],
      "metadata": {
        "colab": {
          "base_uri": "https://localhost:8080/"
        },
        "id": "2zZrrc-3UwNm",
        "outputId": "d63a6653-b0e0-45de-ddb8-b3efdd632ffa"
      },
      "execution_count": 35,
      "outputs": [
        {
          "output_type": "execute_result",
          "data": {
            "text/plain": [
              "tensor([[ -25.2761,  -89.7255],\n",
              "        [ -16.0941, -135.3451],\n",
              "        [ -31.1899,  -92.9622],\n",
              "        [ -61.1443,  -96.3974],\n",
              "        [  15.6164, -139.7357]], grad_fn=<AddBackward0>)"
            ]
          },
          "metadata": {},
          "execution_count": 35
        }
      ]
    },
    {
      "cell_type": "code",
      "source": [
        "def model(x):\n",
        "  return x @ w.t()+b"
      ],
      "metadata": {
        "id": "rAflI16sVbFb"
      },
      "execution_count": 36,
      "outputs": []
    },
    {
      "cell_type": "code",
      "source": [
        "#Generate predictions\n",
        "preds=model(inputs)\n",
        "print(preds)"
      ],
      "metadata": {
        "colab": {
          "base_uri": "https://localhost:8080/"
        },
        "id": "oeFg2CZlWPh7",
        "outputId": "ea9fe2f2-6369-43b4-8904-ad74e2bb1604"
      },
      "execution_count": 37,
      "outputs": [
        {
          "output_type": "stream",
          "name": "stdout",
          "text": [
            "tensor([[ -25.2761,  -89.7255],\n",
            "        [ -16.0941, -135.3451],\n",
            "        [ -31.1899,  -92.9622],\n",
            "        [ -61.1443,  -96.3974],\n",
            "        [  15.6164, -139.7357]], grad_fn=<AddBackward0>)\n"
          ]
        }
      ]
    },
    {
      "cell_type": "code",
      "source": [
        "#Compare with targets\n",
        "print(targets)"
      ],
      "metadata": {
        "colab": {
          "base_uri": "https://localhost:8080/"
        },
        "id": "W7YOjonSWmVc",
        "outputId": "264f1953-0e98-4c46-d286-32d91c68e934"
      },
      "execution_count": 38,
      "outputs": [
        {
          "output_type": "stream",
          "name": "stdout",
          "text": [
            "tensor([[ 56.,  70.],\n",
            "        [ 81., 101.],\n",
            "        [119., 133.],\n",
            "        [ 22.,  37.],\n",
            "        [103., 119.]])\n"
          ]
        }
      ]
    },
    {
      "cell_type": "code",
      "source": [
        "diff=preds-targets\n",
        "torch.sum(diff*diff)/diff.numel()"
      ],
      "metadata": {
        "colab": {
          "base_uri": "https://localhost:8080/"
        },
        "id": "V_pQsRW7W1Ka",
        "outputId": "f0c0257c-1d82-44ea-bd8c-1a41e5c5a2f4"
      },
      "execution_count": 39,
      "outputs": [
        {
          "output_type": "execute_result",
          "data": {
            "text/plain": [
              "tensor(27030.8164, grad_fn=<DivBackward0>)"
            ]
          },
          "metadata": {},
          "execution_count": 39
        }
      ]
    },
    {
      "cell_type": "markdown",
      "source": [
        "LOSS function  "
      ],
      "metadata": {
        "id": "i1KpvsfgWvXa"
      }
    },
    {
      "cell_type": "code",
      "source": [
        "#MSE Loss\n",
        "def mse(t1,t2):\n",
        "  diff=t1-t2\n",
        "  return torch.sum(diff*diff)/diff.numel()"
      ],
      "metadata": {
        "id": "tkd8U8PqWy-B"
      },
      "execution_count": 40,
      "outputs": []
    },
    {
      "cell_type": "code",
      "source": [
        "# compute loss\n",
        "loss=mse(preds,targets)\n",
        "loss"
      ],
      "metadata": {
        "colab": {
          "base_uri": "https://localhost:8080/"
        },
        "id": "HH9FfiwyX3Lt",
        "outputId": "ba0a95de-135e-4d56-b34e-42313afb5ed6"
      },
      "execution_count": 41,
      "outputs": [
        {
          "output_type": "execute_result",
          "data": {
            "text/plain": [
              "tensor(27030.8164, grad_fn=<DivBackward0>)"
            ]
          },
          "metadata": {},
          "execution_count": 41
        }
      ]
    },
    {
      "cell_type": "markdown",
      "source": [
        "Compute gradients"
      ],
      "metadata": {
        "id": "z8yN08adYEXE"
      }
    },
    {
      "cell_type": "code",
      "source": [
        "loss.backward()"
      ],
      "metadata": {
        "id": "toHlrIZ8YCVd"
      },
      "execution_count": 42,
      "outputs": []
    },
    {
      "cell_type": "code",
      "source": [
        "print(w)\n",
        "print(w.grad)"
      ],
      "metadata": {
        "colab": {
          "base_uri": "https://localhost:8080/"
        },
        "id": "p-ccbAXsYf_m",
        "outputId": "7b1f2435-c1bf-4a33-af75-75c853880ebf"
      },
      "execution_count": 43,
      "outputs": [
        {
          "output_type": "stream",
          "name": "stdout",
          "text": [
            "tensor([[-1.0875, -0.2160,  1.5854],\n",
            "        [-0.2764,  0.5705, -2.5059]], requires_grad=True)\n",
            "tensor([[ -8469.0850,  -9215.8506,  -5522.6191],\n",
            "        [-16857.0742, -18470.7266, -11629.4590]])\n"
          ]
        }
      ]
    },
    {
      "cell_type": "code",
      "source": [
        "w-w.grad*1e-5"
      ],
      "metadata": {
        "colab": {
          "base_uri": "https://localhost:8080/"
        },
        "id": "drDnigYDZOFd",
        "outputId": "8df5bd41-fec2-41d1-b1e7-2a147084b867"
      },
      "execution_count": 44,
      "outputs": [
        {
          "output_type": "execute_result",
          "data": {
            "text/plain": [
              "tensor([[-1.0029, -0.1238,  1.6406],\n",
              "        [-0.1078,  0.7552, -2.3896]], grad_fn=<SubBackward0>)"
            ]
          },
          "metadata": {},
          "execution_count": 44
        }
      ]
    },
    {
      "cell_type": "code",
      "source": [
        "print(b)\n",
        "print(b.grad)"
      ],
      "metadata": {
        "colab": {
          "base_uri": "https://localhost:8080/"
        },
        "id": "dWJtwFbgYng7",
        "outputId": "d16874ea-d6f2-449f-92b6-0aacb66cc69a"
      },
      "execution_count": 45,
      "outputs": [
        {
          "output_type": "stream",
          "name": "stdout",
          "text": [
            "tensor([ 0.4125, -0.0152], requires_grad=True)\n",
            "tensor([ -99.8176, -202.8332])\n"
          ]
        }
      ]
    },
    {
      "cell_type": "code",
      "source": [
        "with torch.no_grad():\n",
        "  w-=w.grad*1e-5\n",
        "  b-=b.grad*1e-5"
      ],
      "metadata": {
        "id": "OtT6b0BhYtML"
      },
      "execution_count": 46,
      "outputs": []
    },
    {
      "cell_type": "code",
      "source": [
        "w,b"
      ],
      "metadata": {
        "colab": {
          "base_uri": "https://localhost:8080/"
        },
        "id": "Z6_KW3_zZyhK",
        "outputId": "a958186c-6bb7-41ac-c4e1-fa775698100d"
      },
      "execution_count": 47,
      "outputs": [
        {
          "output_type": "execute_result",
          "data": {
            "text/plain": [
              "(tensor([[-1.0029, -0.1238,  1.6406],\n",
              "         [-0.1078,  0.7552, -2.3896]], requires_grad=True),\n",
              " tensor([ 0.4135, -0.0132], requires_grad=True))"
            ]
          },
          "metadata": {},
          "execution_count": 47
        }
      ]
    },
    {
      "cell_type": "code",
      "source": [
        "pred=model(inputs)\n",
        "loss=mse(pred,targets)\n",
        "loss"
      ],
      "metadata": {
        "colab": {
          "base_uri": "https://localhost:8080/"
        },
        "id": "cQf6dYYHaIA2",
        "outputId": "0aa0eb06-0887-41d4-8aef-1888edcef8c6"
      },
      "execution_count": 48,
      "outputs": [
        {
          "output_type": "execute_result",
          "data": {
            "text/plain": [
              "tensor(18401.5625, grad_fn=<DivBackward0>)"
            ]
          },
          "metadata": {},
          "execution_count": 48
        }
      ]
    },
    {
      "cell_type": "code",
      "source": [
        "# adjust weight & reset gradients\n",
        "with torch.no_grad():\n",
        "  w-=w.grad*1e-5\n",
        "  b-=b.grad*1e-5\n",
        "  w.grad.zero_()\n",
        "  b.grad.zero_()"
      ],
      "metadata": {
        "id": "AUFC-YHOaj9h"
      },
      "execution_count": 49,
      "outputs": []
    },
    {
      "cell_type": "code",
      "source": [
        "w,b"
      ],
      "metadata": {
        "colab": {
          "base_uri": "https://localhost:8080/"
        },
        "id": "HjtnPJPhbP1o",
        "outputId": "7849b42b-1d8c-40ad-d9b7-79ff7437019e"
      },
      "execution_count": 50,
      "outputs": [
        {
          "output_type": "execute_result",
          "data": {
            "text/plain": [
              "(tensor([[-0.9182, -0.0316,  1.6958],\n",
              "         [ 0.0607,  0.9399, -2.2733]], requires_grad=True),\n",
              " tensor([ 0.4145, -0.0112], requires_grad=True))"
            ]
          },
          "metadata": {},
          "execution_count": 50
        }
      ]
    },
    {
      "cell_type": "code",
      "source": [
        "pred=model(inputs)\n",
        "loss=mse(pred,targets)\n",
        "loss"
      ],
      "metadata": {
        "colab": {
          "base_uri": "https://localhost:8080/"
        },
        "id": "KG7bdjiYbR0W",
        "outputId": "d88ff97d-17b3-4b72-e4f3-3356a0993eec"
      },
      "execution_count": 51,
      "outputs": [
        {
          "output_type": "execute_result",
          "data": {
            "text/plain": [
              "tensor(11469.4316, grad_fn=<DivBackward0>)"
            ]
          },
          "metadata": {},
          "execution_count": 51
        }
      ]
    },
    {
      "cell_type": "markdown",
      "source": [
        "Train for multiple epochs\n",
        "To reduce the loss further ,we can repeat the process of adjusting the weights and biases using the gradients multiple times;Each iteration is called an epoch"
      ],
      "metadata": {
        "id": "_hSYbH6QcZQm"
      }
    },
    {
      "cell_type": "code",
      "source": [
        "#Train for 100 epochs\n",
        "for i in range(100):\n",
        "  preds=model(inputs)\n",
        "  loss=mse(preds,targets)\n",
        "  loss.backward()\n",
        "  with torch.no_grad():\n",
        "    w-=w.grad*1e-5\n",
        "    b-=b.grad*1e-5\n",
        "    w.grad.zero_()\n",
        "    b.grad.zero_()"
      ],
      "metadata": {
        "id": "Mth-_BUQceMw"
      },
      "execution_count": 52,
      "outputs": []
    },
    {
      "cell_type": "code",
      "source": [
        "#lets verify the result\n",
        "pred=model(inputs)\n",
        "loss=mse(pred,targets)\n",
        "loss"
      ],
      "metadata": {
        "colab": {
          "base_uri": "https://localhost:8080/"
        },
        "id": "K8kxlyxYdr3m",
        "outputId": "4be89bcf-1820-4d01-8250-2dcec18b082a"
      },
      "execution_count": 53,
      "outputs": [
        {
          "output_type": "execute_result",
          "data": {
            "text/plain": [
              "tensor(441.2385, grad_fn=<DivBackward0>)"
            ]
          },
          "metadata": {},
          "execution_count": 53
        }
      ]
    },
    {
      "cell_type": "markdown",
      "source": [
        "Linear regression using Pytorch built-ins\n",
        "\n",
        "torch.nn package from PyTorch ,which contains utility classes for building neural networks"
      ],
      "metadata": {
        "id": "py8QPCQsd_b1"
      }
    },
    {
      "cell_type": "code",
      "source": [
        "import torch.nn as nn"
      ],
      "metadata": {
        "id": "ls6tKUtKea3N"
      },
      "execution_count": 54,
      "outputs": []
    },
    {
      "cell_type": "code",
      "source": [
        "#input(temp,raifall,humidity)\n",
        "inputs=np.array([\n",
        "    [73,67,43],\n",
        "    [91,88,64],\n",
        "    [87,134,58],\n",
        "    [102,43,37],\n",
        "    [91,87,65],\n",
        "    [69,96,70],\n",
        "    [74,66,43],\n",
        "    [88,134,59],\n",
        "    [101,44,37],\n",
        "    [68,96,71],\n",
        "    [92,87,64],\n",
        "    [87,135,57],\n",
        "    [103,43,36],\n",
        "    [68,97,70],\n",
        "    [73,66,44]\n",
        "],dtype='float32')"
      ],
      "metadata": {
        "id": "7g2TKn22efUY"
      },
      "execution_count": 55,
      "outputs": []
    },
    {
      "cell_type": "code",
      "source": [
        "#targets1\n",
        "targets=np.array([[56,70],\n",
        "                  [81,101],\n",
        "                  [119,133],\n",
        "                  [22,37],\n",
        "                  [103,119],\n",
        "                  [57,69],\n",
        "                  [80,102],\n",
        "                  [118,132],\n",
        "                  [21,38],\n",
        "                  [104,118],\n",
        "                  [57,69],\n",
        "                  [82,100],\n",
        "                  [118,134],\n",
        "                  [20,38],\n",
        "                  [102,120]],dtype='float32')"
      ],
      "metadata": {
        "id": "ZjnR_RKHf7OK"
      },
      "execution_count": 56,
      "outputs": []
    },
    {
      "cell_type": "code",
      "source": [
        "inputs.shape,targets.shape\n"
      ],
      "metadata": {
        "colab": {
          "base_uri": "https://localhost:8080/"
        },
        "id": "4jUdV2elh6o6",
        "outputId": "2c09cc42-dc0f-4568-fcd5-beaf43cf258f"
      },
      "execution_count": 57,
      "outputs": [
        {
          "output_type": "execute_result",
          "data": {
            "text/plain": [
              "((15, 3), (15, 2))"
            ]
          },
          "metadata": {},
          "execution_count": 57
        }
      ]
    },
    {
      "cell_type": "code",
      "source": [
        "inputs=torch.from_numpy(inputs)\n",
        "targets=torch.from_numpy(targets)"
      ],
      "metadata": {
        "id": "z6l_TYQfjQN0"
      },
      "execution_count": 58,
      "outputs": []
    },
    {
      "cell_type": "markdown",
      "source": [
        "Dataset and Dataloader"
      ],
      "metadata": {
        "id": "mJUufP1IimMM"
      }
    },
    {
      "cell_type": "code",
      "source": [
        "from torch.utils.data import TensorDataset"
      ],
      "metadata": {
        "id": "8gATOVdRikfp"
      },
      "execution_count": 59,
      "outputs": []
    },
    {
      "cell_type": "code",
      "source": [
        "#Define datasets\n",
        "train_ds=TensorDataset(inputs,targets)\n",
        "train_ds[0:8]"
      ],
      "metadata": {
        "colab": {
          "base_uri": "https://localhost:8080/"
        },
        "id": "BJxdgl3ui2n8",
        "outputId": "bc295123-240c-4665-8680-cd934636ac1b"
      },
      "execution_count": 60,
      "outputs": [
        {
          "output_type": "execute_result",
          "data": {
            "text/plain": [
              "(tensor([[ 73.,  67.,  43.],\n",
              "         [ 91.,  88.,  64.],\n",
              "         [ 87., 134.,  58.],\n",
              "         [102.,  43.,  37.],\n",
              "         [ 91.,  87.,  65.],\n",
              "         [ 69.,  96.,  70.],\n",
              "         [ 74.,  66.,  43.],\n",
              "         [ 88., 134.,  59.]]),\n",
              " tensor([[ 56.,  70.],\n",
              "         [ 81., 101.],\n",
              "         [119., 133.],\n",
              "         [ 22.,  37.],\n",
              "         [103., 119.],\n",
              "         [ 57.,  69.],\n",
              "         [ 80., 102.],\n",
              "         [118., 132.]]))"
            ]
          },
          "metadata": {},
          "execution_count": 60
        }
      ]
    },
    {
      "cell_type": "code",
      "source": [
        "from torch.utils.data import DataLoader"
      ],
      "metadata": {
        "id": "m9_1v75FjjYi"
      },
      "execution_count": 61,
      "outputs": []
    },
    {
      "cell_type": "code",
      "source": [
        "#define data loader\n",
        "batch_size=5\n",
        "train_dl=DataLoader(train_ds,batch_size,shuffle=True)\n"
      ],
      "metadata": {
        "id": "goF4Rl7gjvDo"
      },
      "execution_count": 62,
      "outputs": []
    },
    {
      "cell_type": "code",
      "source": [
        "# we can use the data loader in a for loop .lets look at an exampple\n",
        "for xb,yb in train_dl:\n",
        "  print(xb)\n",
        "  print(yb)\n",
        "  break"
      ],
      "metadata": {
        "colab": {
          "base_uri": "https://localhost:8080/"
        },
        "id": "xYrd4UpBkLvv",
        "outputId": "adb58f95-0ade-45ee-9c5c-f853ebbc6e36"
      },
      "execution_count": 63,
      "outputs": [
        {
          "output_type": "stream",
          "name": "stdout",
          "text": [
            "tensor([[ 91.,  87.,  65.],\n",
            "        [103.,  43.,  36.],\n",
            "        [ 74.,  66.,  43.],\n",
            "        [ 68.,  96.,  71.],\n",
            "        [ 73.,  67.,  43.]])\n",
            "tensor([[103., 119.],\n",
            "        [118., 134.],\n",
            "        [ 80., 102.],\n",
            "        [104., 118.],\n",
            "        [ 56.,  70.]])\n"
          ]
        }
      ]
    },
    {
      "cell_type": "markdown",
      "source": [
        "nn.linear"
      ],
      "metadata": {
        "id": "E4lAxcJPk1rN"
      }
    },
    {
      "cell_type": "code",
      "source": [
        "#define model\n",
        "model=nn.Linear(3,2)\n",
        "print(model.weight)\n",
        "print(model.bias)"
      ],
      "metadata": {
        "colab": {
          "base_uri": "https://localhost:8080/"
        },
        "id": "hn6NkpUwk0Cg",
        "outputId": "064d197a-8f46-451e-84c9-1edf1fdd2a3e"
      },
      "execution_count": 64,
      "outputs": [
        {
          "output_type": "stream",
          "name": "stdout",
          "text": [
            "Parameter containing:\n",
            "tensor([[ 0.4371, -0.3823, -0.0723],\n",
            "        [ 0.2295, -0.2042, -0.0506]], requires_grad=True)\n",
            "Parameter containing:\n",
            "tensor([-0.4050,  0.5601], requires_grad=True)\n"
          ]
        }
      ]
    },
    {
      "cell_type": "code",
      "source": [
        "#Parameter\n",
        "list(model.parameters())"
      ],
      "metadata": {
        "colab": {
          "base_uri": "https://localhost:8080/"
        },
        "id": "_AJz5TK4lG3U",
        "outputId": "c724f63b-b71e-4243-f6a5-8177377d96e1"
      },
      "execution_count": 65,
      "outputs": [
        {
          "output_type": "execute_result",
          "data": {
            "text/plain": [
              "[Parameter containing:\n",
              " tensor([[ 0.4371, -0.3823, -0.0723],\n",
              "         [ 0.2295, -0.2042, -0.0506]], requires_grad=True),\n",
              " Parameter containing:\n",
              " tensor([-0.4050,  0.5601], requires_grad=True)]"
            ]
          },
          "metadata": {},
          "execution_count": 65
        }
      ]
    },
    {
      "cell_type": "code",
      "source": [
        "#generate prediction\n",
        "pred=model(inputs)\n",
        "pred\n"
      ],
      "metadata": {
        "colab": {
          "base_uri": "https://localhost:8080/"
        },
        "id": "iECKEb1U2LtT",
        "outputId": "6dfa946a-26bc-4e23-c0cf-fe68a1fa0fb3"
      },
      "execution_count": 66,
      "outputs": [
        {
          "output_type": "execute_result",
          "data": {
            "text/plain": [
              "tensor([[  2.7770,   1.4588],\n",
              "        [  1.0969,   0.2394],\n",
              "        [-17.8047,  -9.7676],\n",
              "        [ 25.0631,  13.3193],\n",
              "        [  1.4069,   0.3930],\n",
              "        [-12.0121,  -6.7474],\n",
              "        [  3.5965,   1.8925],\n",
              "        [-17.4400,  -9.5887],\n",
              "        [ 24.2437,  12.8856],\n",
              "        [-12.5215,  -7.0275],\n",
              "        [  1.9164,   0.6732],\n",
              "        [-18.1147,  -9.9211],\n",
              "        [ 25.5725,  13.5995],\n",
              "        [-12.8315,  -7.1811],\n",
              "        [  3.0870,   1.6123]], grad_fn=<AddmmBackward0>)"
            ]
          },
          "metadata": {},
          "execution_count": 66
        }
      ]
    },
    {
      "cell_type": "code",
      "source": [
        "#loss function\n",
        "#import nn.functional\n",
        "import torch.nn.functional as F\n"
      ],
      "metadata": {
        "id": "ihm2datA2eOL"
      },
      "execution_count": 67,
      "outputs": []
    },
    {
      "cell_type": "code",
      "source": [
        "#Define loss function\n",
        "loss_fn=F.mse_loss"
      ],
      "metadata": {
        "id": "b4HzHr203GXr"
      },
      "execution_count": 68,
      "outputs": []
    },
    {
      "cell_type": "code",
      "source": [
        "pred=model(inputs)\n",
        "loss=loss_fn(pred,targets)"
      ],
      "metadata": {
        "id": "wfTaCti33R0q"
      },
      "execution_count": 69,
      "outputs": []
    },
    {
      "cell_type": "markdown",
      "source": [
        "optimizer"
      ],
      "metadata": {
        "id": "URyG7gxM3kai"
      }
    },
    {
      "cell_type": "code",
      "source": [
        "#Define optimizer\n",
        "opt=torch.optim.SGD(model.parameters(),lr=1e-5)"
      ],
      "metadata": {
        "id": "Wh7Yqo0g3iVn"
      },
      "execution_count": 70,
      "outputs": []
    },
    {
      "cell_type": "code",
      "source": [
        "#Utility function to train the model\n",
        "\n",
        "def fit(num_epochs,model,loss_fn,opt,train_dl):\n",
        "  #repeat for given number of epochs\n",
        "  for epoch in range(num_epochs):\n",
        "\n",
        "    #Train with batches of data\n",
        "    for xb,yb in train_dl:\n",
        "      # 1. Generate predictions\n",
        "\n",
        "      pred=model(xb)\n",
        "\n",
        "      # 2. Calculate loss\n",
        "      loss=loss_fn(pred,yb)\n",
        "\n",
        "      # 3. Compute gradients\n",
        "      loss.backward()\n",
        "\n",
        "      #4.Update parameters using gradients\n",
        "      opt.step()\n",
        "\n",
        "      #5.Reset the gradients to zero\n",
        "      opt.zero_grad()\n",
        "\n",
        "    #print the progress\n",
        "    if(epoch +1)%10 ==0:\n",
        "      print('Epoch [{}/{}], loss:{:.4f}'.format(epoch+1,num_epochs,loss.item()))\n"
      ],
      "metadata": {
        "id": "Qtdh0jVG4BQZ"
      },
      "execution_count": 81,
      "outputs": []
    },
    {
      "cell_type": "code",
      "source": [
        "fit(100,model,loss_fn,opt,train_dl)"
      ],
      "metadata": {
        "colab": {
          "base_uri": "https://localhost:8080/"
        },
        "id": "Dfb4hq6j6P9v",
        "outputId": "7eb17742-6f7f-418a-e460-40446b335460"
      },
      "execution_count": 80,
      "outputs": [
        {
          "output_type": "stream",
          "name": "stdout",
          "text": [
            "torch.Size([5, 3])\n",
            "torch.Size([5, 3])\n",
            "torch.Size([5, 3])\n",
            "torch.Size([5, 3])\n",
            "torch.Size([5, 3])\n",
            "torch.Size([5, 3])\n",
            "torch.Size([5, 3])\n",
            "torch.Size([5, 3])\n",
            "torch.Size([5, 3])\n",
            "torch.Size([5, 3])\n",
            "torch.Size([5, 3])\n",
            "torch.Size([5, 3])\n",
            "torch.Size([5, 3])\n",
            "torch.Size([5, 3])\n",
            "torch.Size([5, 3])\n",
            "torch.Size([5, 3])\n",
            "torch.Size([5, 3])\n",
            "torch.Size([5, 3])\n",
            "torch.Size([5, 3])\n",
            "torch.Size([5, 3])\n",
            "torch.Size([5, 3])\n",
            "torch.Size([5, 3])\n",
            "torch.Size([5, 3])\n",
            "torch.Size([5, 3])\n",
            "torch.Size([5, 3])\n",
            "torch.Size([5, 3])\n",
            "torch.Size([5, 3])\n",
            "torch.Size([5, 3])\n",
            "torch.Size([5, 3])\n",
            "torch.Size([5, 3])\n",
            "Epoch [10/100], loss:1164.2222\n",
            "torch.Size([5, 3])\n",
            "torch.Size([5, 3])\n",
            "torch.Size([5, 3])\n",
            "torch.Size([5, 3])\n",
            "torch.Size([5, 3])\n",
            "torch.Size([5, 3])\n",
            "torch.Size([5, 3])\n",
            "torch.Size([5, 3])\n",
            "torch.Size([5, 3])\n",
            "torch.Size([5, 3])\n",
            "torch.Size([5, 3])\n",
            "torch.Size([5, 3])\n",
            "torch.Size([5, 3])\n",
            "torch.Size([5, 3])\n",
            "torch.Size([5, 3])\n",
            "torch.Size([5, 3])\n",
            "torch.Size([5, 3])\n",
            "torch.Size([5, 3])\n",
            "torch.Size([5, 3])\n",
            "torch.Size([5, 3])\n",
            "torch.Size([5, 3])\n",
            "torch.Size([5, 3])\n",
            "torch.Size([5, 3])\n",
            "torch.Size([5, 3])\n",
            "torch.Size([5, 3])\n",
            "torch.Size([5, 3])\n",
            "torch.Size([5, 3])\n",
            "torch.Size([5, 3])\n",
            "torch.Size([5, 3])\n",
            "torch.Size([5, 3])\n",
            "Epoch [20/100], loss:627.6167\n",
            "torch.Size([5, 3])\n",
            "torch.Size([5, 3])\n",
            "torch.Size([5, 3])\n",
            "torch.Size([5, 3])\n",
            "torch.Size([5, 3])\n",
            "torch.Size([5, 3])\n",
            "torch.Size([5, 3])\n",
            "torch.Size([5, 3])\n",
            "torch.Size([5, 3])\n",
            "torch.Size([5, 3])\n",
            "torch.Size([5, 3])\n",
            "torch.Size([5, 3])\n",
            "torch.Size([5, 3])\n",
            "torch.Size([5, 3])\n",
            "torch.Size([5, 3])\n",
            "torch.Size([5, 3])\n",
            "torch.Size([5, 3])\n",
            "torch.Size([5, 3])\n",
            "torch.Size([5, 3])\n",
            "torch.Size([5, 3])\n",
            "torch.Size([5, 3])\n",
            "torch.Size([5, 3])\n",
            "torch.Size([5, 3])\n",
            "torch.Size([5, 3])\n",
            "torch.Size([5, 3])\n",
            "torch.Size([5, 3])\n",
            "torch.Size([5, 3])\n",
            "torch.Size([5, 3])\n",
            "torch.Size([5, 3])\n",
            "torch.Size([5, 3])\n",
            "Epoch [30/100], loss:1127.8289\n",
            "torch.Size([5, 3])\n",
            "torch.Size([5, 3])\n",
            "torch.Size([5, 3])\n",
            "torch.Size([5, 3])\n",
            "torch.Size([5, 3])\n",
            "torch.Size([5, 3])\n",
            "torch.Size([5, 3])\n",
            "torch.Size([5, 3])\n",
            "torch.Size([5, 3])\n",
            "torch.Size([5, 3])\n",
            "torch.Size([5, 3])\n",
            "torch.Size([5, 3])\n",
            "torch.Size([5, 3])\n",
            "torch.Size([5, 3])\n",
            "torch.Size([5, 3])\n",
            "torch.Size([5, 3])\n",
            "torch.Size([5, 3])\n",
            "torch.Size([5, 3])\n",
            "torch.Size([5, 3])\n",
            "torch.Size([5, 3])\n",
            "torch.Size([5, 3])\n",
            "torch.Size([5, 3])\n",
            "torch.Size([5, 3])\n",
            "torch.Size([5, 3])\n",
            "torch.Size([5, 3])\n",
            "torch.Size([5, 3])\n",
            "torch.Size([5, 3])\n",
            "torch.Size([5, 3])\n",
            "torch.Size([5, 3])\n",
            "torch.Size([5, 3])\n",
            "Epoch [40/100], loss:1190.2921\n",
            "torch.Size([5, 3])\n",
            "torch.Size([5, 3])\n",
            "torch.Size([5, 3])\n",
            "torch.Size([5, 3])\n",
            "torch.Size([5, 3])\n",
            "torch.Size([5, 3])\n",
            "torch.Size([5, 3])\n",
            "torch.Size([5, 3])\n",
            "torch.Size([5, 3])\n",
            "torch.Size([5, 3])\n",
            "torch.Size([5, 3])\n",
            "torch.Size([5, 3])\n",
            "torch.Size([5, 3])\n",
            "torch.Size([5, 3])\n",
            "torch.Size([5, 3])\n",
            "torch.Size([5, 3])\n",
            "torch.Size([5, 3])\n",
            "torch.Size([5, 3])\n",
            "torch.Size([5, 3])\n",
            "torch.Size([5, 3])\n",
            "torch.Size([5, 3])\n",
            "torch.Size([5, 3])\n",
            "torch.Size([5, 3])\n",
            "torch.Size([5, 3])\n",
            "torch.Size([5, 3])\n",
            "torch.Size([5, 3])\n",
            "torch.Size([5, 3])\n",
            "torch.Size([5, 3])\n",
            "torch.Size([5, 3])\n",
            "torch.Size([5, 3])\n",
            "Epoch [50/100], loss:1076.3070\n",
            "torch.Size([5, 3])\n",
            "torch.Size([5, 3])\n",
            "torch.Size([5, 3])\n",
            "torch.Size([5, 3])\n",
            "torch.Size([5, 3])\n",
            "torch.Size([5, 3])\n",
            "torch.Size([5, 3])\n",
            "torch.Size([5, 3])\n",
            "torch.Size([5, 3])\n",
            "torch.Size([5, 3])\n",
            "torch.Size([5, 3])\n",
            "torch.Size([5, 3])\n",
            "torch.Size([5, 3])\n",
            "torch.Size([5, 3])\n",
            "torch.Size([5, 3])\n",
            "torch.Size([5, 3])\n",
            "torch.Size([5, 3])\n",
            "torch.Size([5, 3])\n",
            "torch.Size([5, 3])\n",
            "torch.Size([5, 3])\n",
            "torch.Size([5, 3])\n",
            "torch.Size([5, 3])\n",
            "torch.Size([5, 3])\n",
            "torch.Size([5, 3])\n",
            "torch.Size([5, 3])\n",
            "torch.Size([5, 3])\n",
            "torch.Size([5, 3])\n",
            "torch.Size([5, 3])\n",
            "torch.Size([5, 3])\n",
            "torch.Size([5, 3])\n",
            "Epoch [60/100], loss:1325.7429\n",
            "torch.Size([5, 3])\n",
            "torch.Size([5, 3])\n",
            "torch.Size([5, 3])\n",
            "torch.Size([5, 3])\n",
            "torch.Size([5, 3])\n",
            "torch.Size([5, 3])\n",
            "torch.Size([5, 3])\n",
            "torch.Size([5, 3])\n",
            "torch.Size([5, 3])\n",
            "torch.Size([5, 3])\n",
            "torch.Size([5, 3])\n",
            "torch.Size([5, 3])\n",
            "torch.Size([5, 3])\n",
            "torch.Size([5, 3])\n",
            "torch.Size([5, 3])\n",
            "torch.Size([5, 3])\n",
            "torch.Size([5, 3])\n",
            "torch.Size([5, 3])\n",
            "torch.Size([5, 3])\n",
            "torch.Size([5, 3])\n",
            "torch.Size([5, 3])\n",
            "torch.Size([5, 3])\n",
            "torch.Size([5, 3])\n",
            "torch.Size([5, 3])\n",
            "torch.Size([5, 3])\n",
            "torch.Size([5, 3])\n",
            "torch.Size([5, 3])\n",
            "torch.Size([5, 3])\n",
            "torch.Size([5, 3])\n",
            "torch.Size([5, 3])\n",
            "Epoch [70/100], loss:775.2377\n",
            "torch.Size([5, 3])\n",
            "torch.Size([5, 3])\n",
            "torch.Size([5, 3])\n",
            "torch.Size([5, 3])\n",
            "torch.Size([5, 3])\n",
            "torch.Size([5, 3])\n",
            "torch.Size([5, 3])\n",
            "torch.Size([5, 3])\n",
            "torch.Size([5, 3])\n",
            "torch.Size([5, 3])\n",
            "torch.Size([5, 3])\n",
            "torch.Size([5, 3])\n",
            "torch.Size([5, 3])\n",
            "torch.Size([5, 3])\n",
            "torch.Size([5, 3])\n",
            "torch.Size([5, 3])\n",
            "torch.Size([5, 3])\n",
            "torch.Size([5, 3])\n",
            "torch.Size([5, 3])\n",
            "torch.Size([5, 3])\n",
            "torch.Size([5, 3])\n",
            "torch.Size([5, 3])\n",
            "torch.Size([5, 3])\n",
            "torch.Size([5, 3])\n",
            "torch.Size([5, 3])\n",
            "torch.Size([5, 3])\n",
            "torch.Size([5, 3])\n",
            "torch.Size([5, 3])\n",
            "torch.Size([5, 3])\n",
            "torch.Size([5, 3])\n",
            "Epoch [80/100], loss:974.9935\n",
            "torch.Size([5, 3])\n",
            "torch.Size([5, 3])\n",
            "torch.Size([5, 3])\n",
            "torch.Size([5, 3])\n",
            "torch.Size([5, 3])\n",
            "torch.Size([5, 3])\n",
            "torch.Size([5, 3])\n",
            "torch.Size([5, 3])\n",
            "torch.Size([5, 3])\n",
            "torch.Size([5, 3])\n",
            "torch.Size([5, 3])\n",
            "torch.Size([5, 3])\n",
            "torch.Size([5, 3])\n",
            "torch.Size([5, 3])\n",
            "torch.Size([5, 3])\n",
            "torch.Size([5, 3])\n",
            "torch.Size([5, 3])\n",
            "torch.Size([5, 3])\n",
            "torch.Size([5, 3])\n",
            "torch.Size([5, 3])\n",
            "torch.Size([5, 3])\n",
            "torch.Size([5, 3])\n",
            "torch.Size([5, 3])\n",
            "torch.Size([5, 3])\n",
            "torch.Size([5, 3])\n",
            "torch.Size([5, 3])\n",
            "torch.Size([5, 3])\n",
            "torch.Size([5, 3])\n",
            "torch.Size([5, 3])\n",
            "torch.Size([5, 3])\n",
            "Epoch [90/100], loss:1583.4729\n",
            "torch.Size([5, 3])\n",
            "torch.Size([5, 3])\n",
            "torch.Size([5, 3])\n",
            "torch.Size([5, 3])\n",
            "torch.Size([5, 3])\n",
            "torch.Size([5, 3])\n",
            "torch.Size([5, 3])\n",
            "torch.Size([5, 3])\n",
            "torch.Size([5, 3])\n",
            "torch.Size([5, 3])\n",
            "torch.Size([5, 3])\n",
            "torch.Size([5, 3])\n",
            "torch.Size([5, 3])\n",
            "torch.Size([5, 3])\n",
            "torch.Size([5, 3])\n",
            "torch.Size([5, 3])\n",
            "torch.Size([5, 3])\n",
            "torch.Size([5, 3])\n",
            "torch.Size([5, 3])\n",
            "torch.Size([5, 3])\n",
            "torch.Size([5, 3])\n",
            "torch.Size([5, 3])\n",
            "torch.Size([5, 3])\n",
            "torch.Size([5, 3])\n",
            "torch.Size([5, 3])\n",
            "torch.Size([5, 3])\n",
            "torch.Size([5, 3])\n",
            "torch.Size([5, 3])\n",
            "torch.Size([5, 3])\n",
            "torch.Size([5, 3])\n",
            "Epoch [100/100], loss:1542.7239\n"
          ]
        }
      ]
    },
    {
      "cell_type": "code",
      "source": [
        "pred=model(inputs)\n",
        "pred"
      ],
      "metadata": {
        "colab": {
          "base_uri": "https://localhost:8080/"
        },
        "id": "6lfdPEd67NYh",
        "outputId": "ee26c64d-3210-4a42-c90f-c4b29192e4ef"
      },
      "execution_count": 73,
      "outputs": [
        {
          "output_type": "execute_result",
          "data": {
            "text/plain": [
              "tensor([[ 61.8059,  74.9104],\n",
              "        [ 79.5674,  96.3778],\n",
              "        [ 97.0493, 114.9790],\n",
              "        [ 63.8861,  78.6132],\n",
              "        [ 79.1933,  96.0156],\n",
              "        [ 73.7316,  88.9805],\n",
              "        [ 61.8148,  74.9791],\n",
              "        [ 97.5327, 115.6133],\n",
              "        [ 63.8771,  78.5445],\n",
              "        [ 73.3486,  88.5495],\n",
              "        [ 79.5764,  96.4466],\n",
              "        [ 97.4233, 115.3412],\n",
              "        [ 64.2691,  79.0442],\n",
              "        [ 73.7226,  88.9117],\n",
              "        [ 61.4318,  74.5481]], grad_fn=<AddmmBackward0>)"
            ]
          },
          "metadata": {},
          "execution_count": 73
        }
      ]
    },
    {
      "cell_type": "code",
      "source": [
        "targets"
      ],
      "metadata": {
        "colab": {
          "base_uri": "https://localhost:8080/"
        },
        "id": "IkBvutBq7YlW",
        "outputId": "b3174a89-ffd4-4805-918c-3731e152dc45"
      },
      "execution_count": 74,
      "outputs": [
        {
          "output_type": "execute_result",
          "data": {
            "text/plain": [
              "tensor([[ 56.,  70.],\n",
              "        [ 81., 101.],\n",
              "        [119., 133.],\n",
              "        [ 22.,  37.],\n",
              "        [103., 119.],\n",
              "        [ 57.,  69.],\n",
              "        [ 80., 102.],\n",
              "        [118., 132.],\n",
              "        [ 21.,  38.],\n",
              "        [104., 118.],\n",
              "        [ 57.,  69.],\n",
              "        [ 82., 100.],\n",
              "        [118., 134.],\n",
              "        [ 20.,  38.],\n",
              "        [102., 120.]])"
            ]
          },
          "metadata": {},
          "execution_count": 74
        }
      ]
    },
    {
      "cell_type": "code",
      "source": [
        "model(torch.tensor([[75,63,44.]]))"
      ],
      "metadata": {
        "colab": {
          "base_uri": "https://localhost:8080/"
        },
        "id": "8bgskyjb7aa0",
        "outputId": "5b2a3f9b-3a0e-4fb5-902b-d1bc1203e846"
      },
      "execution_count": 75,
      "outputs": [
        {
          "output_type": "execute_result",
          "data": {
            "text/plain": [
              "tensor([[61.0255, 74.2216]], grad_fn=<AddmmBackward0>)"
            ]
          },
          "metadata": {},
          "execution_count": 75
        }
      ]
    },
    {
      "cell_type": "code",
      "source": [
        "inputs"
      ],
      "metadata": {
        "colab": {
          "base_uri": "https://localhost:8080/"
        },
        "id": "yQfFrq0F71lt",
        "outputId": "e5c337f2-9df7-4f68-d0b4-c5be8dbf89ea"
      },
      "execution_count": 76,
      "outputs": [
        {
          "output_type": "execute_result",
          "data": {
            "text/plain": [
              "tensor([[ 73.,  67.,  43.],\n",
              "        [ 91.,  88.,  64.],\n",
              "        [ 87., 134.,  58.],\n",
              "        [102.,  43.,  37.],\n",
              "        [ 91.,  87.,  65.],\n",
              "        [ 69.,  96.,  70.],\n",
              "        [ 74.,  66.,  43.],\n",
              "        [ 88., 134.,  59.],\n",
              "        [101.,  44.,  37.],\n",
              "        [ 68.,  96.,  71.],\n",
              "        [ 92.,  87.,  64.],\n",
              "        [ 87., 135.,  57.],\n",
              "        [103.,  43.,  36.],\n",
              "        [ 68.,  97.,  70.],\n",
              "        [ 73.,  66.,  44.]])"
            ]
          },
          "metadata": {},
          "execution_count": 76
        }
      ]
    }
  ]
}